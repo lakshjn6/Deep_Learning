{
 "cells": [
  {
   "cell_type": "code",
   "execution_count": 115,
   "id": "a043c738-d8e0-48ec-a2d0-40a74c6c804e",
   "metadata": {},
   "outputs": [],
   "source": [
    "import numpy as np"
   ]
  },
  {
   "cell_type": "code",
   "execution_count": 116,
   "id": "69fe6238-00fc-4814-a427-421f7f0cd6fe",
   "metadata": {},
   "outputs": [],
   "source": [
    "import pandas as pd\n",
    "import tensorflow\n",
    "from tensorflow  import keras\n",
    "from keras import Sequential\n",
    "from keras.layers import Dense\n"
   ]
  },
  {
   "cell_type": "code",
   "execution_count": 117,
   "id": "f319407d-4a46-4d8a-abd8-99032c4d0a19",
   "metadata": {},
   "outputs": [],
   "source": [
    "from sklearn.model_selection import train_test_split\n",
    "    "
   ]
  },
  {
   "cell_type": "code",
   "execution_count": 118,
   "id": "b82e55fe-0fa4-47b4-b6f3-8011e34716fa",
   "metadata": {},
   "outputs": [],
   "source": [
    "df=pd.read_csv('C:\\\\Users\\\\BIT\\\\OneDrive\\\\Desktop\\\\diabetes.csv')"
   ]
  },
  {
   "cell_type": "code",
   "execution_count": 119,
   "id": "f1793b1f-4429-47ea-a0ea-5136657422bd",
   "metadata": {},
   "outputs": [],
   "source": [
    "X=df.iloc[:,:-1]"
   ]
  },
  {
   "cell_type": "code",
   "execution_count": 120,
   "id": "7016ccfa-a689-4edb-bdd6-0eeba659bccd",
   "metadata": {},
   "outputs": [],
   "source": [
    "from sklearn.preprocessing import StandardScaler"
   ]
  },
  {
   "cell_type": "code",
   "execution_count": 121,
   "id": "05b1a3c8-0f0a-4871-8bc4-cbb9640b1f9b",
   "metadata": {},
   "outputs": [],
   "source": [
    "y=df.iloc[:,-1]"
   ]
  },
  {
   "cell_type": "code",
   "execution_count": 122,
   "id": "15e56701-ee78-48ab-a718-72f4e07ae7ff",
   "metadata": {},
   "outputs": [],
   "source": [
    "scaler=StandardScaler()\n",
    "X=scaler.fit_transform(X)"
   ]
  },
  {
   "cell_type": "code",
   "execution_count": 123,
   "id": "5c089c0b-e04d-4e0b-93ba-542d6e508780",
   "metadata": {},
   "outputs": [],
   "source": [
    "from sklearn.model_selection import train_test_split\n",
    "X_train,X_test,y_train,y_test=train_test_split(X,y,train_size=0.8,random_state=2)"
   ]
  },
  {
   "cell_type": "code",
   "execution_count": 124,
   "id": "34e2cd8a-d296-4ab6-85fe-2ee012b4b84c",
   "metadata": {},
   "outputs": [],
   "source": [
    "import keras_tuner as kt"
   ]
  },
  {
   "cell_type": "code",
   "execution_count": 130,
   "id": "9954e0ae-adaf-4fcb-a26c-0cd440c2f6d0",
   "metadata": {},
   "outputs": [],
   "source": [
    "def build_model(hp):\n",
    "    model=Sequential()\n",
    "    counter=0\n",
    "    \n",
    "    for i in range(hp.Int('no_of_layers',min_value=2,max_value=10)):\n",
    "        if counter==0:\n",
    "            model.add(Dense(hp.Int('node'+str(i), min_value=8,max_value=128,step=8) , activation=hp.Choice('activation'+str(i) ,values=['relu','tanh' ,'sigmoid']),input_dim=8))\n",
    "        else:\n",
    "            model.add(Dense(hp.Int('node'+str(i), min_value=8,max_value=128,step=8) , activation=hp.Choice('activation'+str(i) ,values=['relu','tanh' ,'sigmoid'])))\n",
    "        counter+=1\n",
    "    model.add(Dense(1,activation='sigmoid'))\n",
    "    optimizer=hp.Choice('optimizer',['Adam','RMSprop','SGD'])\n",
    "    model.compile(optimizer=optimizer,loss='binary_crossentropy',metrics=['accuracy'])\n",
    "    return model\n",
    "\n",
    "       "
   ]
  },
  {
   "cell_type": "code",
   "execution_count": 134,
   "id": "d59a682d-98a2-4efd-a13c-9df537ba9573",
   "metadata": {},
   "outputs": [],
   "source": [
    "tuner=kt.RandomSearch(build_model,objective='val_accuracy',max_trials=5 ,directory='my_dir',project_name='sanjay')"
   ]
  },
  {
   "cell_type": "code",
   "execution_count": 135,
   "id": "d0ac1ed1-41aa-48ee-a6e0-e34a041111b3",
   "metadata": {},
   "outputs": [
    {
     "name": "stdout",
     "output_type": "stream",
     "text": [
      "Trial 5 Complete [00h 00m 03s]\n",
      "val_accuracy: 0.7727272510528564\n",
      "\n",
      "Best val_accuracy So Far: 0.7727272510528564\n",
      "Total elapsed time: 00h 00m 15s\n"
     ]
    }
   ],
   "source": [
    "tuner.search(X_train,y_train,epochs=5,validation_data=(X_test,y_test))"
   ]
  },
  {
   "cell_type": "code",
   "execution_count": 136,
   "id": "aad58aba-6ece-4a2c-a6f8-01ec0b9df019",
   "metadata": {},
   "outputs": [
    {
     "data": {
      "text/plain": [
       "{'no_of_layers': 5,\n",
       " 'node0': 80,\n",
       " 'activation0': 'relu',\n",
       " 'node1': 40,\n",
       " 'activation1': 'relu',\n",
       " 'optimizer': 'Adam',\n",
       " 'node2': 128,\n",
       " 'activation2': 'tanh',\n",
       " 'node3': 48,\n",
       " 'activation3': 'sigmoid',\n",
       " 'node4': 72,\n",
       " 'activation4': 'sigmoid',\n",
       " 'node5': 88,\n",
       " 'activation5': 'tanh',\n",
       " 'node6': 96,\n",
       " 'activation6': 'relu'}"
      ]
     },
     "execution_count": 136,
     "metadata": {},
     "output_type": "execute_result"
    }
   ],
   "source": [
    "tuner.get_best_hyperparameters()[0].values"
   ]
  },
  {
   "cell_type": "code",
   "execution_count": null,
   "id": "69093f57-f860-41da-853e-b41bc3ef6341",
   "metadata": {},
   "outputs": [],
   "source": []
  }
 ],
 "metadata": {
  "kernelspec": {
   "display_name": "Python 3 (ipykernel)",
   "language": "python",
   "name": "python3"
  },
  "language_info": {
   "codemirror_mode": {
    "name": "ipython",
    "version": 3
   },
   "file_extension": ".py",
   "mimetype": "text/x-python",
   "name": "python",
   "nbconvert_exporter": "python",
   "pygments_lexer": "ipython3",
   "version": "3.12.4"
  }
 },
 "nbformat": 4,
 "nbformat_minor": 5
}
